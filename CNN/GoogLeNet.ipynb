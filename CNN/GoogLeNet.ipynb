{
 "cells": [
  {
   "cell_type": "markdown",
   "metadata": {},
   "source": [
    "<a href=\"https://colab.research.google.com/github/PnZheng/DeepLearning/blob/main/CNN/GoogLeNet.ipynb\" target=\"_parent\"><img src=\"https://colab.research.google.com/assets/colab-badge.svg\" alt=\"Open In Colab\"/></a>"
   ]
  },
  {
   "cell_type": "markdown",
   "metadata": {},
   "source": [
    "# GoogLeNet\n",
    "\n",
    "### inception Block 的结构实现\n",
    "![Imgur](https://i.imgur.com/GRtAyBJ.png)"
   ]
  },
  {
   "cell_type": "code",
   "execution_count": 1,
   "metadata": {},
   "outputs": [],
   "source": [
    "import torch.nn as nn"
   ]
  },
  {
   "cell_type": "code",
   "execution_count": 1,
   "metadata": {},
   "outputs": [
    {
     "ename": "NameError",
     "evalue": "name 'nn' is not defined",
     "output_type": "error",
     "traceback": [
      "\u001b[1;31m---------------------------------------------------------------------------\u001b[0m",
      "\u001b[1;31mNameError\u001b[0m                                 Traceback (most recent call last)",
      "\u001b[1;32m<ipython-input-1-4049270455f3>\u001b[0m in \u001b[0;36m<module>\u001b[1;34m\u001b[0m\n\u001b[0;32m      1\u001b[0m \u001b[1;31m# GoogleNet中的Inception Block的定义\u001b[0m\u001b[1;33m\u001b[0m\u001b[1;33m\u001b[0m\u001b[1;33m\u001b[0m\u001b[0m\n\u001b[1;32m----> 2\u001b[1;33m \u001b[1;32mclass\u001b[0m \u001b[0mInceptionModule\u001b[0m\u001b[1;33m(\u001b[0m\u001b[0mnn\u001b[0m\u001b[1;33m.\u001b[0m\u001b[0mModule\u001b[0m\u001b[1;33m)\u001b[0m\u001b[1;33m:\u001b[0m\u001b[1;33m\u001b[0m\u001b[1;33m\u001b[0m\u001b[0m\n\u001b[0m\u001b[0;32m      3\u001b[0m     \u001b[1;32mdef\u001b[0m \u001b[0m__init__\u001b[0m\u001b[1;33m(\u001b[0m\u001b[0mself\u001b[0m\u001b[1;33m,\u001b[0m \u001b[0minput_planes\u001b[0m\u001b[1;33m,\u001b[0m \u001b[0mn_channels1x1\u001b[0m\u001b[1;33m,\u001b[0m \u001b[0mn_channels3x3red\u001b[0m\u001b[1;33m,\u001b[0m \u001b[0mn_channels3x3\u001b[0m\u001b[1;33m,\u001b[0m \u001b[0mn_channels5x5red\u001b[0m\u001b[1;33m,\u001b[0m \u001b[0mn_channels5x5\u001b[0m\u001b[1;33m,\u001b[0m \u001b[0mpooling_planes\u001b[0m\u001b[1;33m)\u001b[0m\u001b[1;33m:\u001b[0m\u001b[1;33m\u001b[0m\u001b[1;33m\u001b[0m\u001b[0m\n\u001b[0;32m      4\u001b[0m         \u001b[0msuper\u001b[0m\u001b[1;33m(\u001b[0m\u001b[0mInceptionModule\u001b[0m\u001b[1;33m,\u001b[0m \u001b[0mself\u001b[0m\u001b[1;33m)\u001b[0m\u001b[1;33m.\u001b[0m\u001b[0m__init__\u001b[0m\u001b[1;33m(\u001b[0m\u001b[1;33m)\u001b[0m\u001b[1;33m\u001b[0m\u001b[1;33m\u001b[0m\u001b[0m\n\u001b[0;32m      5\u001b[0m         \u001b[1;31m# 1x1 卷积分支\u001b[0m\u001b[1;33m\u001b[0m\u001b[1;33m\u001b[0m\u001b[1;33m\u001b[0m\u001b[0m\n",
      "\u001b[1;31mNameError\u001b[0m: name 'nn' is not defined"
     ]
    }
   ],
   "source": [
    "# GoogleNet中的Inception Block的定义\n",
    "class InceptionModule(nn.Module):\n",
    "    def __init__(self, input_planes, n_channels1x1, n_channels3x3red, n_channels3x3, n_channels5x5red, n_channels5x5, pooling_planes):\n",
    "        super(InceptionModule, self).__init__()\n",
    "        # 1x1 卷积分支\n",
    "        self.block1 = nn.Sequential(\n",
    "            nn.Conv2d(input_planes, n_channels1x1, kernel_size=1),\n",
    "            nn.BatchNorm2d(n_channels1x1),\n",
    "            nn.ReLU(True),\n",
    "        )\n",
    " \n",
    "        # 1x1 卷积 -> 3x3 卷积分支\n",
    "        self.block2 = nn.Sequential(\n",
    "            nn.Conv2d(input_planes, n_channels3x3red, kernel_size=1),\n",
    "            nn.BatchNorm2d(n_channels3x3red),\n",
    "            nn.ReLU(True),\n",
    "            nn.Conv2d(n_channels3x3red, n_channels3x3, kernel_size=3, padding=1),\n",
    "            nn.BatchNorm2d(n_channels3x3),\n",
    "            nn.ReLU(True),\n",
    "        )\n",
    " \n",
    "        # 1x1 卷积 -> 5x5 卷积分支\n",
    "        self.block3 = nn.Sequential(\n",
    "            nn.Conv2d(input_planes, n_channels5x5red, kernel_size=1),\n",
    "            nn.BatchNorm2d(n_channels5x5red),\n",
    "            nn.ReLU(True),\n",
    "            nn.Conv2d(n_channels5x5red, n_channels5x5, kernel_size=3, padding=1),\n",
    "            nn.BatchNorm2d(n_channels5x5),\n",
    "            nn.ReLU(True),\n",
    "            nn.Conv2d(n_channels5x5, n_channels5x5, kernel_size=3, padding=1),\n",
    "            nn.BatchNorm2d(n_channels5x5),\n",
    "            nn.ReLU(True),\n",
    "        )\n",
    " \n",
    "        # 3x3 池化 -> 1x1 卷积分支\n",
    "        self.block4 = nn.Sequential(\n",
    "            nn.MaxPool2d(3, stride=1, padding=1),\n",
    "            nn.Conv2d(input_planes, pooling_planes, kernel_size=1),\n",
    "            nn.BatchNorm2d(pooling_planes),\n",
    "            nn.ReLU(True),\n",
    "        )\n",
    " \n",
    "    def forward(self, ip):\n",
    "        op1 = self.block1(ip)\n",
    "        op2 = self.block2(ip)\n",
    "        op3 = self.block3(ip)\n",
    "        op4 = self.block4(ip)\n",
    "        # 最后的整合\n",
    "        return torch.cat([op1,op2,op3,op4], 1)"
   ]
  },
  {
   "cell_type": "markdown",
   "metadata": {},
   "source": [
    "### GoogleNet 模型的定义"
   ]
  },
  {
   "cell_type": "code",
   "execution_count": 3,
   "metadata": {},
   "outputs": [],
   "source": [
    "class GoogLeNet(nn.Module):\n",
    "    def __init__(self):\n",
    "        super(GoogLeNet, self).__init__()\n",
    "        self.stem = nn.Sequential(\n",
    "            nn.Conv2d(3, 192, kernel_size=3, padding=1),\n",
    "            nn.BatchNorm2d(192),\n",
    "            nn.ReLU(True),\n",
    "        )\n",
    " \n",
    "        self.im1 = InceptionModule(192,  64,  96, 128, 16, 32, 32)\n",
    "        self.im2 = InceptionModule(256, 128, 128, 192, 32, 96, 64)\n",
    " \n",
    "        self.max_pool = nn.MaxPool2d(3, stride=2, padding=1)\n",
    " \n",
    "        self.im3 = InceptionModule(480, 192,  96, 208, 16,  48,  64)\n",
    "        self.im4 = InceptionModule(512, 160, 112, 224, 24,  64,  64)\n",
    "        self.im5 = InceptionModule(512, 128, 128, 256, 24,  64,  64)\n",
    "        self.im6 = InceptionModule(512, 112, 144, 288, 32,  64,  64)\n",
    "        self.im7 = InceptionModule(528, 256, 160, 320, 32, 128, 128)\n",
    " \n",
    "        self.im8 = InceptionModule(832, 256, 160, 320, 32, 128, 128)\n",
    "        self.im9 = InceptionModule(832, 384, 192, 384, 48, 128, 128)\n",
    " \n",
    "        self.average_pool = nn.AvgPool2d(7, stride=1)\n",
    "        self.fc = nn.Linear(4096, 1000)\n",
    " \n",
    "    def forward(self, ip):\n",
    "        op = self.stem(ip)\n",
    "        out = self.im1(op)\n",
    "        out = self.im2(op)\n",
    "        op = self.maxpool(op)\n",
    "        op = self.im3(op)\n",
    "        op = self.im4(op)\n",
    "        op = self.im5(op)\n",
    "        op = self.im6(op)\n",
    "        op = self.im7(op)\n",
    "        op = self.max_pool(op)\n",
    "        op = self.im8(op)\n",
    "        op = self.im9(op)\n",
    "        op = self.avgerage_pool(op)\n",
    "        op = op.view(op.size(0), -1)\n",
    "        op = self.fc(op)\n",
    "        return op"
   ]
  },
  {
   "cell_type": "code",
   "execution_count": null,
   "metadata": {},
   "outputs": [],
   "source": [
    "# 除了自己定义和实例化GoogleNet模型外，我们也能够直接引用预训练好的模型\n",
    "import torchvision.models as models\n",
    "\n",
    "model = models.googlenet(pretrained=True)"
   ]
  }
 ],
 "metadata": {
  "kernelspec": {
   "display_name": "Python 3",
   "language": "python",
   "name": "python3"
  },
  "language_info": {
   "codemirror_mode": {
    "name": "ipython",
    "version": 3
   },
   "file_extension": ".py",
   "mimetype": "text/x-python",
   "name": "python",
   "nbconvert_exporter": "python",
   "pygments_lexer": "ipython3",
   "version": "3.8.8"
  }
 },
 "nbformat": 4,
 "nbformat_minor": 4
}
