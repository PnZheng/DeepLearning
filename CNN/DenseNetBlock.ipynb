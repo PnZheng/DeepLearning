{
 "cells": [
  {
   "cell_type": "markdown",
   "metadata": {},
   "source": [
    "<a href=\"https://colab.research.google.com/github/PnZheng/DeepLearning/blob/main/CNN/DenseNetBlock.ipynb\" target=\"_parent\"><img src=\"https://colab.research.google.com/assets/colab-badge.svg\" alt=\"Open In Colab\"/></a>"
   ]
  },
  {
   "cell_type": "markdown",
   "metadata": {},
   "source": [
    "## DenseBlock的实现\n",
    "- 由于每个稠密块都会带来通道数的增加，使用过多则会过于复杂化模型。 而过渡层可以用来控制模型复杂度。\n",
    "- 它通过  1×1  卷积层来减小通道数，并使用步幅为 2 的平均汇聚层减半高和宽，从而进一步降低模型复杂度。"
   ]
  },
  {
   "cell_type": "code",
   "execution_count": 1,
   "metadata": {},
   "outputs": [],
   "source": [
    "import torch.nn as nn"
   ]
  },
  {
   "cell_type": "code",
   "execution_count": 2,
   "metadata": {},
   "outputs": [],
   "source": [
    "class DenseBlock(nn.Module):\n",
    "    def __init__(self, input_num_planes, rate_inc):\n",
    "        super(DenseBlock, self).__init__()\n",
    "        self.batch_norm1 = nn.BatchNorm2d(input_num_planes)\n",
    "        self.conv_layer1 = nn.Conv2d(in_channels=input_num_planes, out_channels=4*rate_inc, kernel_size=1, bias=False)\n",
    "        self.batch_norm2 = nn.BatchNorm2d(4*rate_inc)\n",
    "        self.conv_layer2 = nn.Conv2d(in_channels=4*rate_inc, out_channels=rate_inc, kernel_size=3, padding=1, bias=False)\n",
    "    def forward(self, inp):\n",
    "        op = self.conv_layer1(F.relu(self.batch_norm1(inp)))\n",
    "        op = self.conv_layer2(F.relu(self.batch_norm2(op)))\n",
    "        op = torch.cat([op,inp], 1)\n",
    "        return op\n",
    "    \n",
    "class TransBlock(nn.Module):\n",
    "    def __init__(self, input_num_planes, output_num_planes):\n",
    "        super(TransBlock, self).__init__()\n",
    "        self.batch_norm = nn.BatchNorm2d(input_num_planes)\n",
    "        self.conv_layer = nn.Conv2d(in_channels=input_num_planes, out_channels=output_num_planes, kernel_size=1, bias=False)\n",
    "    def forward(self, inp):\n",
    "        op = self.conv_layer(F.relu(self.batch_norm(inp)))\n",
    "        op = F.avg_pool2d(op, 2)\n",
    "        return op"
   ]
  },
  {
   "cell_type": "markdown",
   "metadata": {},
   "source": [
    "### 练习\n",
    "\n",
    "- 自己实现一个DenseNet的完整网络结构。"
   ]
  }
 ],
 "metadata": {
  "kernelspec": {
   "display_name": "Python 3",
   "language": "python",
   "name": "python3"
  },
  "language_info": {
   "codemirror_mode": {
    "name": "ipython",
    "version": 3
   },
   "file_extension": ".py",
   "mimetype": "text/x-python",
   "name": "python",
   "nbconvert_exporter": "python",
   "pygments_lexer": "ipython3",
   "version": "3.8.8"
  }
 },
 "nbformat": 4,
 "nbformat_minor": 4
}
