{
 "cells": [
  {
   "cell_type": "markdown",
   "metadata": {},
   "source": [
    "<a href=\"https://colab.research.google.com/github/PnZheng/DeepLearning/blob/main/CNN/lenet.ipynb\" target=\"_parent\"><img src=\"https://colab.research.google.com/assets/colab-badge.svg\" alt=\"Open In Colab\"/></a>"
   ]
  },
  {
   "cell_type": "markdown",
   "metadata": {},
   "source": [
    "# LeNet\n",
    "\n",
    "在这里我们将对LeNet模型进行定义，初始化和训练，并利用训练好的模型来进行预测。"
   ]
  },
  {
   "cell_type": "markdown",
   "metadata": {},
   "source": [
    "我们引入了matplotlib来展示训练时的图像, 并且手工设置了随机种子以确保实验的可重复性。"
   ]
  },
  {
   "cell_type": "code",
   "execution_count": 2,
   "metadata": {
    "scrolled": true
   },
   "outputs": [],
   "source": [
    "import numpy as np\n",
    "import matplotlib.pyplot as plt\n",
    " \n",
    "import torch\n",
    "import torchvision\n",
    "import torch.nn as nn\n",
    "import torch.nn.functional as F\n",
    "import torchvision.transforms as transforms\n",
    "\n",
    "torch.manual_seed(55)\n",
    "device = 'cuda' if torch.cuda.is_available() else 'cpu'"
   ]
  },
  {
   "attachments": {
    "1629797881%281%29.jpg": {
     "image/jpeg": "[encoded data removed]"
    }
   },
   "cell_type": "markdown",
   "metadata": {},
   "source": [
    "## 在这，我们定义好LeNet的结构框架\n",
    "\n",
    "- 3 图像输入通道, 6 特征输出通道 和 5x5 的卷积核\n",
    "- 6 图像输入通道, 16 特征输出通道 和 5x5 的卷积核\n",
    "- 全连接层，其大小分别为 120, 84 and 10\n",
    "\n",
    "## 网络在运行时候执行向前传递的一个默认函数（forward）\n",
    "\n",
    "他的执行方向和框架依照下图进行。\n",
    "![1629797881%281%29.jpg](attachment:1629797881%281%29.jpg)\n",
    "\n",
    "\n",
    "将空间和深度的数据平展到单一向量中去 -> x = x.view(-1, self.flattened_features(x))\n",
    "\n",
    "\n",
    "## 此外，我们定义了flatteed_features函数来统计该模型中参数的总和。"
   ]
  },
  {
   "cell_type": "code",
   "execution_count": 3,
   "metadata": {},
   "outputs": [
    {
     "name": "stdout",
     "output_type": "stream",
     "text": [
      "LeNet(\n",
      "  (cn1): Conv2d(3, 6, kernel_size=(5, 5), stride=(1, 1))\n",
      "  (cn2): Conv2d(6, 16, kernel_size=(5, 5), stride=(1, 1))\n",
      "  (fc1): Linear(in_features=400, out_features=120, bias=True)\n",
      "  (fc2): Linear(in_features=120, out_features=84, bias=True)\n",
      "  (fc3): Linear(in_features=84, out_features=10, bias=True)\n",
      ")\n"
     ]
    }
   ],
   "source": [
    "class LeNet(nn.Module):\n",
    "    def __init__(self):\n",
    "        super(LeNet, self).__init__()\n",
    "        self.cn1 = nn.Conv2d(3, 6, 5)\n",
    "        self.cn2 = nn.Conv2d(6, 16, 5)\n",
    "        self.fc1 = nn.Linear(16 * 5 * 5, 120)  \n",
    "        self.fc2 = nn.Linear(120, 84)\n",
    "        self.fc3 = nn.Linear(84, 10)\n",
    " \n",
    "    def forward(self, x):\n",
    "        x = F.relu(self.cn1(x))\n",
    "        x = F.max_pool2d(x, (2, 2))\n",
    "        x = F.relu(self.cn2(x))\n",
    "        x = F.max_pool2d(x, (2, 2))\n",
    "        x = x.view(-1, self.flattened_features(x))\n",
    "        x = F.relu(self.fc1(x))\n",
    "        x = F.relu(self.fc2(x))\n",
    "        x = self.fc3(x)\n",
    "        return x\n",
    "\n",
    "    def flattened_features(self, x):\n",
    "        size = x.size()[1:]  \n",
    "        num_feats = 1\n",
    "        for s in size:\n",
    "            num_feats *= s\n",
    "        return num_feats\n",
    "\n",
    "\n",
    "lenet = LeNet()\n",
    "lenet = lenet.to(device)\n",
    "print(lenet)"
   ]
  },
  {
   "cell_type": "markdown",
   "metadata": {},
   "source": [
    "## 在这里我们将具体实现以下训练过程的函数\n",
    "\n",
    "1. 首先需要对损失进行初始化 $loss_total = 0.0$。\n",
    "\n",
    "2. 随后通过**enumerate**函数获取输入\n",
    "    - 输入数组格式为：[inputs, labels]\n",
    "    - ip代变着输入图像（input images）, ground_truth 表示输出的真实分类\n",
    "\n",
    "3. 在每次运行时，需要将之前遗留下来的梯度进行清空：optim.zero_grad()\n",
    "\n",
    "4. 随后，执行Lenet函数的前向传播和后向传播，以及参数优化步骤\n",
    "\n",
    "5. 每训练完1000个小批量数据时候，就打印损失的数据"
   ]
  },
  {
   "cell_type": "code",
   "execution_count": 3,
   "metadata": {},
   "outputs": [],
   "source": [
    "def train(net, trainloader, optim, epoch):\n",
    "    loss_total = 0.0\n",
    "    \n",
    "    for i, data in enumerate(trainloader, 0):\n",
    "        \n",
    "        ip, ground_truth = data\n",
    "        ip, ground_truth = ip.to(device), ground_truth.to(device)\n",
    "        optim.zero_grad()\n",
    "        op = net(ip)\n",
    "        loss = nn.CrossEntropyLoss()(op, ground_truth)\n",
    "        loss.backward()\n",
    "        optim.step()\n",
    "        loss_total += loss.item()\n",
    "        \n",
    "        if (i+1) % 1000 == 0:    \n",
    "            print('[Epoch number : %d, Mini-batches: %5d] loss: %.3f' %\n",
    "                  (epoch + 1, i + 1, loss_total / 200))\n",
    "            loss_total = 0.0"
   ]
  },
  {
   "cell_type": "markdown",
   "metadata": {},
   "source": [
    "## 我们将定义用于评估模型性能的测试函数：\n",
    "\n",
    "通过统计函数得到的pred标签与真实的标签，之后利用公式：$accuracy = success / counter$，便可以简单得到准确率。"
   ]
  },
  {
   "cell_type": "code",
   "execution_count": 4,
   "metadata": {},
   "outputs": [],
   "source": [
    "def test(net, testloader):\n",
    "    success = 0\n",
    "    counter = 0\n",
    "    with torch.no_grad():\n",
    "        for data in testloader:\n",
    "            im, ground_truth = data\n",
    "            im, ground_truth = im.to(device), ground_truth.to(device)\n",
    "            op = net(im)\n",
    "            _, pred = torch.max(op.data, 1)\n",
    "            counter += ground_truth.size(0)\n",
    "            success += (pred == ground_truth).sum().item()\n",
    "\n",
    "    print('LeNet accuracy on 10000 images from test dataset: %d %%' % (\n",
    "        100 * success / counter))"
   ]
  },
  {
   "cell_type": "markdown",
   "metadata": {},
   "source": [
    "## 在这里我们将使用CIFAR-10的数据集进行训练验证\n",
    "\n",
    "- 首先需要定义好transform方便对输入数据进行预处理\n",
    "- 以下包括随机的水平颠倒、随机对图像进行裁剪、以及将图像转化为Tensor数据和对数据的归一化\n",
    "- 将像素进行归一化到0-1的时，可以将归一化的像素值的均值和方差设置为0.5 \n",
    "\n",
    "若已经使用下载好了数据集，将download设置为false即可。 \n",
    "相关数据集已放在目录下。"
   ]
  },
  {
   "cell_type": "code",
   "execution_count": 5,
   "metadata": {},
   "outputs": [
    {
     "name": "stdout",
     "output_type": "stream",
     "text": [
      "Files already downloaded and verified\n",
      "Files already downloaded and verified\n"
     ]
    }
   ],
   "source": [
    "train_transform = transforms.Compose([transforms.RandomHorizontalFlip(),\n",
    "                                      transforms.RandomCrop(32, 4),\n",
    "                                      transforms.ToTensor(),\n",
    "                                      transforms.Normalize((0.5, 0.5, 0.5), (0.5, 0.5, 0.5))])\n",
    "# 加载数据集\n",
    "trainset = torchvision.datasets.CIFAR10(root='./data', train=True, download=True, transform=train_transform)\n",
    "trainloader = torch.utils.data.DataLoader(trainset, batch_size=8, shuffle=True, num_workers=1)\n",
    "# 测试机的数据预处理\n",
    "test_transform = transforms.Compose([transforms.ToTensor(), transforms.Normalize((0.5, 0.5, 0.5), (0.5, 0.5, 0.5))])\n",
    "\n",
    "testset = torchvision.datasets.CIFAR10(root='./data', train=False, download=True, transform=test_transform)\n",
    "testloader = torch.utils.data.DataLoader(testset, batch_size=10000, shuffle=False, num_workers=2)\n",
    "\n",
    "# ordering is important\n",
    "classes = ('plane', 'car', 'bird', 'cat', 'deer', 'dog', 'frog', 'horse', 'ship', 'truck')"
   ]
  },
  {
   "cell_type": "markdown",
   "metadata": {},
   "source": [
    "## 这里定义一个图片展示的函数，以便更好的观察\n",
    "\n",
    "在函数中首先，需要对图像数据进行逆标准化后，才能进行plt.imshow展示。\n",
    "\n",
    "在训练集中进行图像才有\n",
    "在表格中展示数据\n",
    "打印标签\n"
   ]
  },
  {
   "cell_type": "code",
   "execution_count": 77,
   "metadata": {},
   "outputs": [
    {
     "data": {
      "image/png": "[encoded data removed]",
      "text/plain": [
       "<Figure size 432x288 with 1 Axes>"
      ]
     },
     "metadata": {
      "needs_background": "light"
     },
     "output_type": "display_data"
    },
    {
     "name": "stdout",
     "output_type": "stream",
     "text": [
      "    frog  ||  cat  ||  ship  ||  plane\n"
     ]
    }
   ],
   "source": [
    "def imageshow(image):\n",
    "    image = image/2 + 0.5     \n",
    "    npimage = image.numpy()\n",
    "    plt.imshow(np.transpose(npimage, (1, 2, 0)))\n",
    "    plt.show()\n",
    "\n",
    "\n",
    "dataiter = iter(trainloader)\n",
    "images, labels = dataiter.next()\n",
    "\n",
    "num_images = 4\n",
    "imageshow(torchvision.utils.make_grid(images[:num_images]))\n",
    "print('    '+'  ||  '.join(classes[labels[j]] for j in range(num_images)))"
   ]
  },
  {
   "cell_type": "markdown",
   "metadata": {},
   "source": [
    "# 定义优化器，学习率lr = 0.001\n",
    "# 训练数据集。并且同时测试验证集的准确率\n"
   ]
  },
  {
   "cell_type": "code",
   "execution_count": 73,
   "metadata": {
    "scrolled": true
   },
   "outputs": [
    {
     "name": "stdout",
     "output_type": "stream",
     "text": [
      "[Epoch number : 1, Mini-batches:  1000] loss: 6.744\n",
      "[Epoch number : 1, Mini-batches:  2000] loss: 6.684\n",
      "[Epoch number : 1, Mini-batches:  3000] loss: 6.613\n",
      "[Epoch number : 1, Mini-batches:  4000] loss: 6.525\n",
      "[Epoch number : 1, Mini-batches:  5000] loss: 6.643\n",
      "[Epoch number : 1, Mini-batches:  6000] loss: 6.565\n",
      "\n",
      "LeNet accuracy on 10000 images from test dataset: 56 %\n",
      "\n",
      "[Epoch number : 2, Mini-batches:  1000] loss: 6.477\n",
      "[Epoch number : 2, Mini-batches:  2000] loss: 6.436\n",
      "[Epoch number : 2, Mini-batches:  3000] loss: 6.338\n",
      "[Epoch number : 2, Mini-batches:  4000] loss: 6.270\n",
      "[Epoch number : 2, Mini-batches:  5000] loss: 6.363\n",
      "[Epoch number : 2, Mini-batches:  6000] loss: 6.349\n",
      "\n",
      "LeNet accuracy on 10000 images from test dataset: 57 %\n",
      "\n",
      "[Epoch number : 3, Mini-batches:  1000] loss: 6.194\n",
      "[Epoch number : 3, Mini-batches:  2000] loss: 6.382\n",
      "[Epoch number : 3, Mini-batches:  3000] loss: 6.131\n",
      "[Epoch number : 3, Mini-batches:  4000] loss: 6.129\n",
      "[Epoch number : 3, Mini-batches:  5000] loss: 6.117\n",
      "[Epoch number : 3, Mini-batches:  6000] loss: 6.143\n",
      "\n",
      "LeNet accuracy on 10000 images from test dataset: 58 %\n",
      "\n",
      "[Epoch number : 4, Mini-batches:  1000] loss: 6.193\n",
      "[Epoch number : 4, Mini-batches:  2000] loss: 6.014\n",
      "[Epoch number : 4, Mini-batches:  3000] loss: 6.118\n",
      "[Epoch number : 4, Mini-batches:  4000] loss: 6.035\n",
      "[Epoch number : 4, Mini-batches:  5000] loss: 6.143\n",
      "[Epoch number : 4, Mini-batches:  6000] loss: 5.963\n",
      "\n",
      "LeNet accuracy on 10000 images from test dataset: 59 %\n",
      "\n",
      "[Epoch number : 5, Mini-batches:  1000] loss: 6.033\n",
      "[Epoch number : 5, Mini-batches:  2000] loss: 5.950\n",
      "[Epoch number : 5, Mini-batches:  3000] loss: 5.976\n",
      "[Epoch number : 5, Mini-batches:  4000] loss: 6.075\n",
      "[Epoch number : 5, Mini-batches:  5000] loss: 5.845\n",
      "[Epoch number : 5, Mini-batches:  6000] loss: 5.931\n",
      "\n",
      "LeNet accuracy on 10000 images from test dataset: 59 %\n",
      "\n",
      "[Epoch number : 6, Mini-batches:  1000] loss: 5.874\n",
      "[Epoch number : 6, Mini-batches:  2000] loss: 6.033\n",
      "[Epoch number : 6, Mini-batches:  3000] loss: 5.795\n",
      "[Epoch number : 6, Mini-batches:  4000] loss: 5.923\n",
      "[Epoch number : 6, Mini-batches:  5000] loss: 5.785\n",
      "[Epoch number : 6, Mini-batches:  6000] loss: 5.869\n",
      "\n",
      "LeNet accuracy on 10000 images from test dataset: 58 %\n",
      "\n",
      "[Epoch number : 7, Mini-batches:  1000] loss: 5.923\n",
      "[Epoch number : 7, Mini-batches:  2000] loss: 5.809\n",
      "[Epoch number : 7, Mini-batches:  3000] loss: 5.761\n",
      "[Epoch number : 7, Mini-batches:  4000] loss: 5.727\n",
      "[Epoch number : 7, Mini-batches:  5000] loss: 5.738\n",
      "[Epoch number : 7, Mini-batches:  6000] loss: 5.776\n",
      "\n",
      "LeNet accuracy on 10000 images from test dataset: 62 %\n",
      "\n",
      "[Epoch number : 8, Mini-batches:  1000] loss: 5.645\n",
      "[Epoch number : 8, Mini-batches:  2000] loss: 5.693\n",
      "[Epoch number : 8, Mini-batches:  3000] loss: 5.743\n",
      "[Epoch number : 8, Mini-batches:  4000] loss: 5.710\n",
      "[Epoch number : 8, Mini-batches:  5000] loss: 5.740\n",
      "[Epoch number : 8, Mini-batches:  6000] loss: 5.726\n",
      "\n",
      "LeNet accuracy on 10000 images from test dataset: 60 %\n",
      "\n",
      "[Epoch number : 9, Mini-batches:  1000] loss: 5.603\n",
      "[Epoch number : 9, Mini-batches:  2000] loss: 5.627\n",
      "[Epoch number : 9, Mini-batches:  3000] loss: 5.617\n",
      "[Epoch number : 9, Mini-batches:  4000] loss: 5.642\n",
      "[Epoch number : 9, Mini-batches:  5000] loss: 5.675\n",
      "[Epoch number : 9, Mini-batches:  6000] loss: 5.603\n",
      "\n",
      "LeNet accuracy on 10000 images from test dataset: 63 %\n",
      "\n",
      "[Epoch number : 10, Mini-batches:  1000] loss: 5.457\n",
      "[Epoch number : 10, Mini-batches:  2000] loss: 5.495\n",
      "[Epoch number : 10, Mini-batches:  3000] loss: 5.527\n",
      "[Epoch number : 10, Mini-batches:  4000] loss: 5.570\n",
      "[Epoch number : 10, Mini-batches:  5000] loss: 5.596\n",
      "[Epoch number : 10, Mini-batches:  6000] loss: 5.574\n",
      "\n",
      "LeNet accuracy on 10000 images from test dataset: 62 %\n",
      "\n",
      "[Epoch number : 11, Mini-batches:  1000] loss: 5.554\n",
      "[Epoch number : 11, Mini-batches:  2000] loss: 5.521\n",
      "[Epoch number : 11, Mini-batches:  3000] loss: 5.550\n",
      "[Epoch number : 11, Mini-batches:  4000] loss: 5.532\n",
      "[Epoch number : 11, Mini-batches:  5000] loss: 5.513\n",
      "[Epoch number : 11, Mini-batches:  6000] loss: 5.584\n",
      "\n",
      "LeNet accuracy on 10000 images from test dataset: 64 %\n",
      "\n",
      "[Epoch number : 12, Mini-batches:  1000] loss: 5.414\n",
      "[Epoch number : 12, Mini-batches:  2000] loss: 5.569\n",
      "[Epoch number : 12, Mini-batches:  3000] loss: 5.507\n",
      "[Epoch number : 12, Mini-batches:  4000] loss: 5.443\n",
      "[Epoch number : 12, Mini-batches:  5000] loss: 5.560\n",
      "[Epoch number : 12, Mini-batches:  6000] loss: 5.384\n",
      "\n",
      "LeNet accuracy on 10000 images from test dataset: 65 %\n",
      "\n",
      "[Epoch number : 13, Mini-batches:  1000] loss: 5.341\n",
      "[Epoch number : 13, Mini-batches:  2000] loss: 5.446\n",
      "[Epoch number : 13, Mini-batches:  3000] loss: 5.502\n",
      "[Epoch number : 13, Mini-batches:  4000] loss: 5.483\n",
      "[Epoch number : 13, Mini-batches:  5000] loss: 5.406\n",
      "[Epoch number : 13, Mini-batches:  6000] loss: 5.593\n",
      "\n",
      "LeNet accuracy on 10000 images from test dataset: 64 %\n",
      "\n",
      "[Epoch number : 14, Mini-batches:  1000] loss: 5.282\n",
      "[Epoch number : 14, Mini-batches:  2000] loss: 5.427\n",
      "[Epoch number : 14, Mini-batches:  3000] loss: 5.390\n",
      "[Epoch number : 14, Mini-batches:  4000] loss: 5.361\n",
      "[Epoch number : 14, Mini-batches:  5000] loss: 5.417\n",
      "[Epoch number : 14, Mini-batches:  6000] loss: 5.440\n",
      "\n",
      "LeNet accuracy on 10000 images from test dataset: 63 %\n",
      "\n",
      "[Epoch number : 15, Mini-batches:  1000] loss: 5.353\n",
      "[Epoch number : 15, Mini-batches:  2000] loss: 5.406\n",
      "[Epoch number : 15, Mini-batches:  3000] loss: 5.375\n",
      "[Epoch number : 15, Mini-batches:  4000] loss: 5.461\n",
      "[Epoch number : 15, Mini-batches:  5000] loss: 5.421\n",
      "[Epoch number : 15, Mini-batches:  6000] loss: 5.478\n",
      "\n",
      "LeNet accuracy on 10000 images from test dataset: 64 %\n",
      "\n",
      "[Epoch number : 16, Mini-batches:  1000] loss: 5.309\n",
      "[Epoch number : 16, Mini-batches:  2000] loss: 5.355\n",
      "[Epoch number : 16, Mini-batches:  3000] loss: 5.418\n",
      "[Epoch number : 16, Mini-batches:  4000] loss: 5.390\n",
      "[Epoch number : 16, Mini-batches:  5000] loss: 5.378\n",
      "[Epoch number : 16, Mini-batches:  6000] loss: 5.385\n",
      "\n",
      "LeNet accuracy on 10000 images from test dataset: 64 %\n",
      "\n",
      "[Epoch number : 17, Mini-batches:  1000] loss: 5.271\n",
      "[Epoch number : 17, Mini-batches:  2000] loss: 5.307\n",
      "[Epoch number : 17, Mini-batches:  3000] loss: 5.395\n",
      "[Epoch number : 17, Mini-batches:  4000] loss: 5.338\n",
      "[Epoch number : 17, Mini-batches:  5000] loss: 5.444\n",
      "[Epoch number : 17, Mini-batches:  6000] loss: 5.271\n",
      "\n",
      "LeNet accuracy on 10000 images from test dataset: 65 %\n",
      "\n",
      "[Epoch number : 18, Mini-batches:  1000] loss: 5.219\n",
      "[Epoch number : 18, Mini-batches:  2000] loss: 5.366\n",
      "[Epoch number : 18, Mini-batches:  3000] loss: 5.346\n",
      "[Epoch number : 18, Mini-batches:  4000] loss: 5.340\n",
      "[Epoch number : 18, Mini-batches:  5000] loss: 5.308\n",
      "[Epoch number : 18, Mini-batches:  6000] loss: 5.203\n",
      "\n",
      "LeNet accuracy on 10000 images from test dataset: 64 %\n",
      "\n",
      "[Epoch number : 19, Mini-batches:  1000] loss: 5.353\n",
      "[Epoch number : 19, Mini-batches:  2000] loss: 5.204\n",
      "[Epoch number : 19, Mini-batches:  3000] loss: 5.300\n",
      "[Epoch number : 19, Mini-batches:  4000] loss: 5.236\n",
      "[Epoch number : 19, Mini-batches:  5000] loss: 5.296\n",
      "[Epoch number : 19, Mini-batches:  6000] loss: 5.225\n",
      "\n",
      "LeNet accuracy on 10000 images from test dataset: 66 %\n",
      "\n",
      "[Epoch number : 20, Mini-batches:  1000] loss: 5.157\n",
      "[Epoch number : 20, Mini-batches:  2000] loss: 5.225\n",
      "[Epoch number : 20, Mini-batches:  3000] loss: 5.261\n",
      "[Epoch number : 20, Mini-batches:  4000] loss: 5.243\n",
      "[Epoch number : 20, Mini-batches:  5000] loss: 5.252\n",
      "[Epoch number : 20, Mini-batches:  6000] loss: 5.312\n",
      "\n",
      "LeNet accuracy on 10000 images from test dataset: 65 %\n",
      "\n",
      "[Epoch number : 21, Mini-batches:  1000] loss: 5.232\n",
      "[Epoch number : 21, Mini-batches:  2000] loss: 5.257\n",
      "[Epoch number : 21, Mini-batches:  3000] loss: 5.267\n",
      "[Epoch number : 21, Mini-batches:  4000] loss: 5.241\n",
      "[Epoch number : 21, Mini-batches:  5000] loss: 5.211\n",
      "[Epoch number : 21, Mini-batches:  6000] loss: 5.222\n",
      "\n",
      "LeNet accuracy on 10000 images from test dataset: 66 %\n",
      "\n",
      "[Epoch number : 22, Mini-batches:  1000] loss: 5.152\n",
      "[Epoch number : 22, Mini-batches:  2000] loss: 5.223\n",
      "[Epoch number : 22, Mini-batches:  3000] loss: 5.127\n",
      "[Epoch number : 22, Mini-batches:  4000] loss: 5.364\n",
      "[Epoch number : 22, Mini-batches:  5000] loss: 5.180\n",
      "[Epoch number : 22, Mini-batches:  6000] loss: 5.231\n",
      "\n",
      "LeNet accuracy on 10000 images from test dataset: 65 %\n",
      "\n"
     ]
    },
    {
     "name": "stdout",
     "output_type": "stream",
     "text": [
      "[Epoch number : 23, Mini-batches:  1000] loss: 5.353\n",
      "[Epoch number : 23, Mini-batches:  2000] loss: 5.203\n",
      "[Epoch number : 23, Mini-batches:  3000] loss: 5.151\n",
      "[Epoch number : 23, Mini-batches:  4000] loss: 5.228\n",
      "[Epoch number : 23, Mini-batches:  5000] loss: 5.218\n",
      "[Epoch number : 23, Mini-batches:  6000] loss: 5.235\n",
      "\n",
      "LeNet accuracy on 10000 images from test dataset: 66 %\n",
      "\n",
      "[Epoch number : 24, Mini-batches:  1000] loss: 5.212\n",
      "[Epoch number : 24, Mini-batches:  2000] loss: 5.095\n",
      "[Epoch number : 24, Mini-batches:  3000] loss: 5.110\n",
      "[Epoch number : 24, Mini-batches:  4000] loss: 5.194\n",
      "[Epoch number : 24, Mini-batches:  5000] loss: 5.198\n",
      "[Epoch number : 24, Mini-batches:  6000] loss: 5.188\n",
      "\n",
      "LeNet accuracy on 10000 images from test dataset: 68 %\n",
      "\n",
      "[Epoch number : 25, Mini-batches:  1000] loss: 5.141\n",
      "[Epoch number : 25, Mini-batches:  2000] loss: 5.245\n",
      "[Epoch number : 25, Mini-batches:  3000] loss: 5.135\n",
      "[Epoch number : 25, Mini-batches:  4000] loss: 5.133\n",
      "[Epoch number : 25, Mini-batches:  5000] loss: 5.160\n",
      "[Epoch number : 25, Mini-batches:  6000] loss: 5.144\n",
      "\n",
      "LeNet accuracy on 10000 images from test dataset: 65 %\n",
      "\n",
      "[Epoch number : 26, Mini-batches:  1000] loss: 5.188\n",
      "[Epoch number : 26, Mini-batches:  2000] loss: 5.154\n",
      "[Epoch number : 26, Mini-batches:  3000] loss: 5.037\n",
      "[Epoch number : 26, Mini-batches:  4000] loss: 5.192\n",
      "[Epoch number : 26, Mini-batches:  5000] loss: 5.211\n",
      "[Epoch number : 26, Mini-batches:  6000] loss: 5.081\n",
      "\n",
      "LeNet accuracy on 10000 images from test dataset: 67 %\n",
      "\n",
      "[Epoch number : 27, Mini-batches:  1000] loss: 5.123\n",
      "[Epoch number : 27, Mini-batches:  2000] loss: 5.118\n",
      "[Epoch number : 27, Mini-batches:  3000] loss: 5.158\n",
      "[Epoch number : 27, Mini-batches:  4000] loss: 5.170\n",
      "[Epoch number : 27, Mini-batches:  5000] loss: 5.109\n",
      "[Epoch number : 27, Mini-batches:  6000] loss: 5.112\n",
      "\n",
      "LeNet accuracy on 10000 images from test dataset: 66 %\n",
      "\n",
      "[Epoch number : 28, Mini-batches:  1000] loss: 5.220\n",
      "[Epoch number : 28, Mini-batches:  2000] loss: 5.125\n",
      "[Epoch number : 28, Mini-batches:  3000] loss: 5.186\n",
      "[Epoch number : 28, Mini-batches:  4000] loss: 5.075\n",
      "[Epoch number : 28, Mini-batches:  5000] loss: 5.080\n",
      "[Epoch number : 28, Mini-batches:  6000] loss: 5.107\n",
      "\n",
      "LeNet accuracy on 10000 images from test dataset: 66 %\n",
      "\n",
      "[Epoch number : 29, Mini-batches:  1000] loss: 5.085\n",
      "[Epoch number : 29, Mini-batches:  2000] loss: 5.184\n",
      "[Epoch number : 29, Mini-batches:  3000] loss: 5.189\n",
      "[Epoch number : 29, Mini-batches:  4000] loss: 5.112\n",
      "[Epoch number : 29, Mini-batches:  5000] loss: 5.130\n",
      "[Epoch number : 29, Mini-batches:  6000] loss: 5.097\n",
      "\n",
      "LeNet accuracy on 10000 images from test dataset: 65 %\n",
      "\n",
      "[Epoch number : 30, Mini-batches:  1000] loss: 5.190\n",
      "[Epoch number : 30, Mini-batches:  2000] loss: 5.032\n",
      "[Epoch number : 30, Mini-batches:  3000] loss: 5.110\n",
      "[Epoch number : 30, Mini-batches:  4000] loss: 5.216\n",
      "[Epoch number : 30, Mini-batches:  5000] loss: 5.013\n",
      "[Epoch number : 30, Mini-batches:  6000] loss: 5.054\n",
      "\n",
      "LeNet accuracy on 10000 images from test dataset: 66 %\n",
      "\n",
      "[Epoch number : 31, Mini-batches:  1000] loss: 5.046\n",
      "[Epoch number : 31, Mini-batches:  2000] loss: 5.086\n",
      "[Epoch number : 31, Mini-batches:  3000] loss: 5.171\n",
      "[Epoch number : 31, Mini-batches:  4000] loss: 5.046\n",
      "[Epoch number : 31, Mini-batches:  5000] loss: 5.100\n",
      "[Epoch number : 31, Mini-batches:  6000] loss: 5.057\n",
      "\n",
      "LeNet accuracy on 10000 images from test dataset: 66 %\n",
      "\n",
      "[Epoch number : 32, Mini-batches:  1000] loss: 5.191\n",
      "[Epoch number : 32, Mini-batches:  2000] loss: 5.083\n",
      "[Epoch number : 32, Mini-batches:  3000] loss: 5.072\n",
      "[Epoch number : 32, Mini-batches:  4000] loss: 5.059\n",
      "[Epoch number : 32, Mini-batches:  5000] loss: 5.130\n",
      "[Epoch number : 32, Mini-batches:  6000] loss: 5.016\n",
      "\n",
      "LeNet accuracy on 10000 images from test dataset: 66 %\n",
      "\n",
      "[Epoch number : 33, Mini-batches:  1000] loss: 5.082\n",
      "[Epoch number : 33, Mini-batches:  2000] loss: 5.072\n",
      "[Epoch number : 33, Mini-batches:  3000] loss: 5.090\n",
      "[Epoch number : 33, Mini-batches:  4000] loss: 5.066\n",
      "[Epoch number : 33, Mini-batches:  5000] loss: 5.090\n",
      "[Epoch number : 33, Mini-batches:  6000] loss: 5.083\n",
      "\n",
      "LeNet accuracy on 10000 images from test dataset: 67 %\n",
      "\n",
      "[Epoch number : 34, Mini-batches:  1000] loss: 5.148\n",
      "[Epoch number : 34, Mini-batches:  2000] loss: 5.058\n",
      "[Epoch number : 34, Mini-batches:  3000] loss: 5.096\n",
      "[Epoch number : 34, Mini-batches:  4000] loss: 5.030\n",
      "[Epoch number : 34, Mini-batches:  5000] loss: 5.119\n",
      "[Epoch number : 34, Mini-batches:  6000] loss: 5.099\n",
      "\n",
      "LeNet accuracy on 10000 images from test dataset: 68 %\n",
      "\n",
      "[Epoch number : 35, Mini-batches:  1000] loss: 5.095\n",
      "[Epoch number : 35, Mini-batches:  2000] loss: 5.085\n",
      "[Epoch number : 35, Mini-batches:  3000] loss: 5.003\n",
      "[Epoch number : 35, Mini-batches:  4000] loss: 4.954\n",
      "[Epoch number : 35, Mini-batches:  5000] loss: 5.012\n",
      "[Epoch number : 35, Mini-batches:  6000] loss: 5.136\n",
      "\n",
      "LeNet accuracy on 10000 images from test dataset: 67 %\n",
      "\n",
      "[Epoch number : 36, Mini-batches:  1000] loss: 5.020\n",
      "[Epoch number : 36, Mini-batches:  2000] loss: 4.950\n",
      "[Epoch number : 36, Mini-batches:  3000] loss: 5.023\n",
      "[Epoch number : 36, Mini-batches:  4000] loss: 5.039\n",
      "[Epoch number : 36, Mini-batches:  5000] loss: 5.002\n",
      "[Epoch number : 36, Mini-batches:  6000] loss: 5.145\n",
      "\n",
      "LeNet accuracy on 10000 images from test dataset: 66 %\n",
      "\n",
      "[Epoch number : 37, Mini-batches:  1000] loss: 5.009\n",
      "[Epoch number : 37, Mini-batches:  2000] loss: 4.950\n",
      "[Epoch number : 37, Mini-batches:  3000] loss: 4.999\n",
      "[Epoch number : 37, Mini-batches:  4000] loss: 5.092\n",
      "[Epoch number : 37, Mini-batches:  5000] loss: 4.977\n",
      "[Epoch number : 37, Mini-batches:  6000] loss: 5.062\n",
      "\n",
      "LeNet accuracy on 10000 images from test dataset: 66 %\n",
      "\n",
      "[Epoch number : 38, Mini-batches:  1000] loss: 5.075\n",
      "[Epoch number : 38, Mini-batches:  2000] loss: 5.066\n",
      "[Epoch number : 38, Mini-batches:  3000] loss: 5.079\n",
      "[Epoch number : 38, Mini-batches:  4000] loss: 5.083\n",
      "[Epoch number : 38, Mini-batches:  5000] loss: 5.072\n",
      "[Epoch number : 38, Mini-batches:  6000] loss: 4.981\n",
      "\n",
      "LeNet accuracy on 10000 images from test dataset: 67 %\n",
      "\n",
      "[Epoch number : 39, Mini-batches:  1000] loss: 4.968\n",
      "[Epoch number : 39, Mini-batches:  2000] loss: 4.882\n",
      "[Epoch number : 39, Mini-batches:  3000] loss: 4.923\n",
      "[Epoch number : 39, Mini-batches:  4000] loss: 5.002\n",
      "[Epoch number : 39, Mini-batches:  5000] loss: 5.197\n",
      "[Epoch number : 39, Mini-batches:  6000] loss: 5.000\n",
      "\n",
      "LeNet accuracy on 10000 images from test dataset: 66 %\n",
      "\n",
      "[Epoch number : 40, Mini-batches:  1000] loss: 4.876\n",
      "[Epoch number : 40, Mini-batches:  2000] loss: 4.977\n",
      "[Epoch number : 40, Mini-batches:  3000] loss: 4.970\n",
      "[Epoch number : 40, Mini-batches:  4000] loss: 4.980\n",
      "[Epoch number : 40, Mini-batches:  5000] loss: 5.058\n",
      "[Epoch number : 40, Mini-batches:  6000] loss: 4.995\n",
      "\n",
      "LeNet accuracy on 10000 images from test dataset: 65 %\n",
      "\n",
      "[Epoch number : 41, Mini-batches:  1000] loss: 4.921\n",
      "[Epoch number : 41, Mini-batches:  2000] loss: 5.015\n",
      "[Epoch number : 41, Mini-batches:  3000] loss: 5.042\n",
      "[Epoch number : 41, Mini-batches:  4000] loss: 5.063\n",
      "[Epoch number : 41, Mini-batches:  5000] loss: 4.971\n",
      "[Epoch number : 41, Mini-batches:  6000] loss: 4.927\n",
      "\n",
      "LeNet accuracy on 10000 images from test dataset: 68 %\n",
      "\n",
      "[Epoch number : 42, Mini-batches:  1000] loss: 4.925\n",
      "[Epoch number : 42, Mini-batches:  2000] loss: 5.031\n",
      "[Epoch number : 42, Mini-batches:  3000] loss: 5.053\n",
      "[Epoch number : 42, Mini-batches:  4000] loss: 5.058\n",
      "[Epoch number : 42, Mini-batches:  5000] loss: 4.965\n",
      "[Epoch number : 42, Mini-batches:  6000] loss: 5.076\n",
      "\n",
      "LeNet accuracy on 10000 images from test dataset: 68 %\n",
      "\n",
      "[Epoch number : 43, Mini-batches:  1000] loss: 4.961\n",
      "[Epoch number : 43, Mini-batches:  2000] loss: 5.023\n",
      "[Epoch number : 43, Mini-batches:  3000] loss: 4.936\n",
      "[Epoch number : 43, Mini-batches:  4000] loss: 5.041\n",
      "[Epoch number : 43, Mini-batches:  5000] loss: 4.915\n",
      "[Epoch number : 43, Mini-batches:  6000] loss: 5.073\n",
      "\n",
      "LeNet accuracy on 10000 images from test dataset: 67 %\n",
      "\n",
      "[Epoch number : 44, Mini-batches:  1000] loss: 4.884\n",
      "[Epoch number : 44, Mini-batches:  2000] loss: 4.906\n",
      "[Epoch number : 44, Mini-batches:  3000] loss: 5.138\n",
      "[Epoch number : 44, Mini-batches:  4000] loss: 4.915\n",
      "[Epoch number : 44, Mini-batches:  5000] loss: 4.936\n",
      "[Epoch number : 44, Mini-batches:  6000] loss: 4.959\n"
     ]
    },
    {
     "name": "stdout",
     "output_type": "stream",
     "text": [
      "\n",
      "LeNet accuracy on 10000 images from test dataset: 67 %\n",
      "\n",
      "[Epoch number : 45, Mini-batches:  1000] loss: 4.924\n",
      "[Epoch number : 45, Mini-batches:  2000] loss: 5.073\n",
      "[Epoch number : 45, Mini-batches:  3000] loss: 4.935\n",
      "[Epoch number : 45, Mini-batches:  4000] loss: 4.953\n",
      "[Epoch number : 45, Mini-batches:  5000] loss: 5.107\n",
      "[Epoch number : 45, Mini-batches:  6000] loss: 4.978\n",
      "\n",
      "LeNet accuracy on 10000 images from test dataset: 67 %\n",
      "\n",
      "[Epoch number : 46, Mini-batches:  1000] loss: 4.910\n",
      "[Epoch number : 46, Mini-batches:  2000] loss: 5.002\n",
      "[Epoch number : 46, Mini-batches:  3000] loss: 5.092\n",
      "[Epoch number : 46, Mini-batches:  4000] loss: 4.898\n",
      "[Epoch number : 46, Mini-batches:  5000] loss: 4.881\n",
      "[Epoch number : 46, Mini-batches:  6000] loss: 4.906\n",
      "\n",
      "LeNet accuracy on 10000 images from test dataset: 66 %\n",
      "\n",
      "[Epoch number : 47, Mini-batches:  1000] loss: 5.039\n",
      "[Epoch number : 47, Mini-batches:  2000] loss: 4.931\n",
      "[Epoch number : 47, Mini-batches:  3000] loss: 4.996\n",
      "[Epoch number : 47, Mini-batches:  4000] loss: 4.988\n",
      "[Epoch number : 47, Mini-batches:  5000] loss: 5.024\n",
      "[Epoch number : 47, Mini-batches:  6000] loss: 5.028\n",
      "\n",
      "LeNet accuracy on 10000 images from test dataset: 68 %\n",
      "\n",
      "[Epoch number : 48, Mini-batches:  1000] loss: 4.955\n",
      "[Epoch number : 48, Mini-batches:  2000] loss: 4.942\n",
      "[Epoch number : 48, Mini-batches:  3000] loss: 4.989\n",
      "[Epoch number : 48, Mini-batches:  4000] loss: 4.840\n",
      "[Epoch number : 48, Mini-batches:  5000] loss: 4.872\n",
      "[Epoch number : 48, Mini-batches:  6000] loss: 5.021\n",
      "\n",
      "LeNet accuracy on 10000 images from test dataset: 69 %\n",
      "\n",
      "[Epoch number : 49, Mini-batches:  1000] loss: 4.885\n",
      "[Epoch number : 49, Mini-batches:  2000] loss: 4.926\n",
      "[Epoch number : 49, Mini-batches:  3000] loss: 4.998\n",
      "[Epoch number : 49, Mini-batches:  4000] loss: 5.023\n",
      "[Epoch number : 49, Mini-batches:  5000] loss: 4.942\n",
      "[Epoch number : 49, Mini-batches:  6000] loss: 5.028\n",
      "\n",
      "LeNet accuracy on 10000 images from test dataset: 68 %\n",
      "\n",
      "[Epoch number : 50, Mini-batches:  1000] loss: 4.867\n",
      "[Epoch number : 50, Mini-batches:  2000] loss: 5.063\n",
      "[Epoch number : 50, Mini-batches:  3000] loss: 5.027\n",
      "[Epoch number : 50, Mini-batches:  4000] loss: 4.944\n",
      "[Epoch number : 50, Mini-batches:  5000] loss: 4.874\n",
      "[Epoch number : 50, Mini-batches:  6000] loss: 5.049\n",
      "\n",
      "LeNet accuracy on 10000 images from test dataset: 68 %\n",
      "\n",
      "Finished Training\n"
     ]
    }
   ],
   "source": [
    "optim = torch.optim.Adam(lenet.parameters(), lr=0.001)\n",
    "\n",
    "for epoch in range(50):  \n",
    "    train(lenet, trainloader, optim, epoch)\n",
    "    print()\n",
    "    test(lenet, testloader)\n",
    "    print()\n",
    "\n",
    "print('Finished Training')"
   ]
  },
  {
   "cell_type": "markdown",
   "metadata": {},
   "source": [
    "## 保存训练好的模型参数数据"
   ]
  },
  {
   "cell_type": "code",
   "execution_count": 26,
   "metadata": {},
   "outputs": [],
   "source": [
    "model_path = './cifar_model.pth'\n",
    "torch.save(lenet.state_dict(), model_path)"
   ]
  },
  {
   "cell_type": "code",
   "execution_count": 29,
   "metadata": {},
   "outputs": [
    {
     "data": {
      "text/plain": [
       "torch.Size([4, 3, 32, 32])"
      ]
     },
     "execution_count": 29,
     "metadata": {},
     "output_type": "execute_result"
    }
   ],
   "source": [
    "images[:4].shape"
   ]
  },
  {
   "cell_type": "markdown",
   "metadata": {},
   "source": [
    " ## 训练完后，我们对模型进行一个图像预测\n",
    " - 首先加载验证数据\n",
    " - 展示图像和他真实的标签\n",
    " - 加载已经训练好的模型及参数\n",
    " - 模型对图像进行预测推断\n",
    " - 打印预测值"
   ]
  },
  {
   "cell_type": "code",
   "execution_count": 30,
   "metadata": {
    "scrolled": true
   },
   "outputs": [
    {
     "data": {
      "image/png": "[encoded data removed]",
      "text/plain": [
       "<Figure size 432x288 with 1 Axes>"
      ]
     },
     "metadata": {
      "needs_background": "light"
     },
     "output_type": "display_data"
    },
    {
     "name": "stdout",
     "output_type": "stream",
     "text": [
      "Label:         cat  ship  ship plane\n",
      "Prediction:    cat  ship  ship plane\n"
     ]
    }
   ],
   "source": [
    "d_iter = iter(testloader)\n",
    "im, ground_truth = d_iter.next()\n",
    "\n",
    "imageshow(torchvision.utils.make_grid(im[:4]))\n",
    "print('Label:      ', ' '.join('%5s' % classes[ground_truth[j]] for j in range(4)))\n",
    "\n",
    "lenet_cached = LeNet()\n",
    "lenet_cached.load_state_dict(torch.load(model_path))\n",
    "\n",
    "op = lenet_cached(im)\n",
    "\n",
    "_, pred = torch.max(op, 1)\n",
    "\n",
    "print('Prediction: ', ' '.join('%5s' % classes[pred[j]] for j in range(4)))"
   ]
  },
  {
   "cell_type": "markdown",
   "metadata": {},
   "source": [
    "## 统计该模型的预测准确率\n"
   ]
  },
  {
   "cell_type": "code",
   "execution_count": 31,
   "metadata": {},
   "outputs": [
    {
     "name": "stdout",
     "output_type": "stream",
     "text": [
      "Model accuracy on 10000 images from test dataset: 67 %\n"
     ]
    }
   ],
   "source": [
    "success = 0\n",
    "counter = 0\n",
    "with torch.no_grad():\n",
    "    for data in testloader:\n",
    "        im, ground_truth = data\n",
    "        op = lenet_cached(im)\n",
    "        _, pred = torch.max(op.data, 1)\n",
    "        counter += ground_truth.size(0)\n",
    "        success += (pred == ground_truth).sum().item()\n",
    "\n",
    "print('Model accuracy on 10000 images from test dataset: %d %%' % (\n",
    "    100 * success / counter))"
   ]
  },
  {
   "cell_type": "markdown",
   "metadata": {},
   "source": [
    "# 统计每一个类别的精确度"
   ]
  },
  {
   "cell_type": "code",
   "execution_count": 32,
   "metadata": {
    "scrolled": true
   },
   "outputs": [
    {
     "name": "stdout",
     "output_type": "stream",
     "text": [
      "Model accuracy for class plane : 76 %\n",
      "Model accuracy for class   car : 82 %\n",
      "Model accuracy for class  bird : 62 %\n",
      "Model accuracy for class   cat : 56 %\n",
      "Model accuracy for class  deer : 56 %\n",
      "Model accuracy for class   dog : 40 %\n",
      "Model accuracy for class  frog : 85 %\n",
      "Model accuracy for class horse : 71 %\n",
      "Model accuracy for class  ship : 70 %\n",
      "Model accuracy for class truck : 74 %\n"
     ]
    }
   ],
   "source": [
    "class_sucess = list(0. for i in range(10))\n",
    "class_counter = list(0. for i in range(10))\n",
    "with torch.no_grad():\n",
    "    for data in testloader:\n",
    "        im, ground_truth = data\n",
    "        op = lenet_cached(im)\n",
    "        _, pred = torch.max(op, 1)\n",
    "        c = (pred == ground_truth).squeeze()\n",
    "        for i in range(10000):\n",
    "            ground_truth_curr = ground_truth[i]\n",
    "            class_sucess[ground_truth_curr] += c[i].item()\n",
    "            class_counter[ground_truth_curr] += 1\n",
    "\n",
    "\n",
    "for i in range(10):\n",
    "    print('Model accuracy for class %5s : %2d %%' % (\n",
    "        classes[i], 100 * class_sucess[i] / class_counter[i]))"
   ]
  },
  {
   "cell_type": "markdown",
   "metadata": {},
   "source": [
    "# 练习\n",
    "尝试构建一个基于 LeNet 的更复杂的网络，以提高其准确性，如：\n",
    "- 调整卷积窗口大小。\n",
    "- 调整输出通道的数量。\n",
    "- 调整激活函数（如 ReLU）。\n",
    "- 调整卷积层的数量。\n",
    "- 调整全连接层的数量。\n",
    "- 调整学习率和其他训练细节（例如，初始化和周期数）。"
   ]
  }
 ],
 "metadata": {
  "kernelspec": {
   "display_name": "Python 3",
   "language": "python",
   "name": "python3"
  },
  "language_info": {
   "codemirror_mode": {
    "name": "ipython",
    "version": 3
   },
   "file_extension": ".py",
   "mimetype": "text/x-python",
   "name": "python",
   "nbconvert_exporter": "python",
   "pygments_lexer": "ipython3",
   "version": "3.8.8"
  }
 },
 "nbformat": 4,
 "nbformat_minor": 4
}
