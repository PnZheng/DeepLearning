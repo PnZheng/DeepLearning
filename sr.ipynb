{
 "cells": [
  {
   "cell_type": "markdown",
   "metadata": {},
   "source": [
    "# 传统插值上采样\n",
    "\n",
    "主要有：最邻近插值、线性插值、双线性插值、双三次插值。\n",
    "如下图所示：\n",
    "\n",
    "<img src=\"https://pic.imgdb.cn/item/660bb7649f345e8d03a09749.png\" style=\"zoom:50%;\" />"
   ]
  },
  {
   "cell_type": "code",
   "execution_count": null,
   "metadata": {
    "vscode": {
     "languageId": "plaintext"
    }
   },
   "outputs": [],
   "source": [
    "%cd ./\n",
    "!wget https://pic.imgdb.cn/item/660bbe8f9f345e8d03d18591.png\n"
   ]
  },
  {
   "cell_type": "code",
   "execution_count": null,
   "metadata": {
    "vscode": {
     "languageId": "plaintext"
    }
   },
   "outputs": [],
   "source": [
    "import cv2\n",
    "import torch\n",
    "import torch.nn as nn"
   ]
  },
  {
   "cell_type": "markdown",
   "metadata": {},
   "source": [
    "### 最近邻插值 Nearest Interpolation\n",
    "#### 选取与待填充位置最近的值作为该位置的值\n"
   ]
  },
  {
   "cell_type": "markdown",
   "metadata": {},
   "source": [
    "## 双线性插值 Bilinear Interpolation\n",
    "<img src=\"https://pic.imgdb.cn/item/660bb7609f345e8d03a081d2.png\" style=\"zoom:50%;\" />"
   ]
  },
  {
   "cell_type": "markdown",
   "metadata": {},
   "source": [
    "## 双三次插值 Bicubic Interpolation\n",
    "\n",
    "双三次插值是二维空间中最常用的插值方法。在这种方法中，函数f在点(x, y)的值可以通过矩形网络中最近的16个采样点的加权平均得到。需要使用两个多项式插值三次函数，每个方向使用一个。可以得到一个连续的插值函数，它的一阶偏导数连续，且交叉导数处处连续。\n",
    "\n",
    "双三次插值通常能产生效果最好、最精确的上采样结果，但它速度也几乎是最慢的。双线性插值的速度快一些的，但没有前者精确。"
   ]
  },
  {
   "cell_type": "markdown",
   "metadata": {},
   "source": []
  },
  {
   "cell_type": "markdown",
   "metadata": {},
   "source": []
  }
 ],
 "metadata": {
  "language_info": {
   "name": "python"
  }
 },
 "nbformat": 4,
 "nbformat_minor": 2
}
